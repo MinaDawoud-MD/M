{
  "nbformat": 4,
  "nbformat_minor": 0,
  "metadata": {
    "colab": {
      "name": "MinaDawoud 1a_python1.ipynb",
      "provenance": [],
      "collapsed_sections": []
    },
    "kernelspec": {
      "name": "python3",
      "display_name": "Python 3"
    }
  },
  "cells": [
    {
      "cell_type": "code",
      "metadata": {
        "id": "vpOchwDfEuyE",
        "colab_type": "code",
        "colab": {}
      },
      "source": [
        "# Number 1\n",
        "A = \"\\tTwinkle, twinkle, little star,\\n\";\n",
        "B = \"\\t\\tHow I wonder what you are!\\n\";\n",
        "C = \"\\t\\t\\tUp above the world so high,\\n\";\n",
        "D = \"\\t\\t\\tLike a diamond in the sky.\\n\";\n",
        "E = A + B + C + D + A + B;\n",
        "print(\"\\n\\n\\n\\n\\n\" , E);"
      ],
      "execution_count": null,
      "outputs": []
    },
    {
      "cell_type": "code",
      "metadata": {
        "id": "rK5prvNUFV0y",
        "colab_type": "code",
        "colab": {}
      },
      "source": [
        "# Number 2\n",
        "color_list = [\"Red\",\"Green\",\"White\" ,\"Black\"]\n",
        "print (\"First Color:\\n\\t\" , color_list[0], \"\\nLast Color:\\n\\t\" , color_list[-1], \"\");"
      ],
      "execution_count": null,
      "outputs": []
    },
    {
      "cell_type": "code",
      "metadata": {
        "id": "a8WvksYxF8fk",
        "colab_type": "code",
        "colab": {}
      },
      "source": [
        "# Number 3 Scrap\n",
        "x = int (input(\"Input N:\\n\\t\"));\n",
        "n = x + (x**3) + (x**7);\n",
        "print(\"\\n\\t\\tAnswer:\", n); "
      ],
      "execution_count": null,
      "outputs": []
    },
    {
      "cell_type": "code",
      "metadata": {
        "id": "ms-Rlk7J4Wa7",
        "colab_type": "code",
        "colab": {
          "base_uri": "https://localhost:8080/",
          "height": 85
        },
        "outputId": "f02cd11d-5ca1-44d2-c350-9286729fdeff"
      },
      "source": [
        "# Number 3\n",
        "x = int (input(\"Input N:\\n\\t\"));\n",
        "a = int (\"%s\" % x);\n",
        "b = int (\"%s%s%s\" % x,x,x);\n",
        "c = int (\"%s%s%s%s%s%s%s\" % x,x,x,x,x,x,x);\n",
        "\n",
        "n = a + b + c;\n",
        "print(\"\\n\\t\\tAnswer:\", n); "
      ],
      "execution_count": null,
      "outputs": [
        {
          "output_type": "stream",
          "text": [
            "Input N:\n",
            "\t5\n",
            "\n",
            "\t\tAnswer: 5556115\n"
          ],
          "name": "stdout"
        }
      ]
    },
    {
      "cell_type": "code",
      "metadata": {
        "id": "4vvtZa-SHW5T",
        "colab_type": "code",
        "colab": {}
      },
      "source": [
        "# Number 4\n",
        "import math;\n",
        "r = int (input(\"R:\\n\\t\"));\n",
        "v = math.pi * pow(r, 2);\n",
        "print (\"\\n\", v)"
      ],
      "execution_count": null,
      "outputs": []
    },
    {
      "cell_type": "code",
      "metadata": {
        "id": "xbFUzROlIptf",
        "colab_type": "code",
        "colab": {}
      },
      "source": [
        "# Number 5\n",
        "a = 17;\n",
        "b = int (input(\"Number:\\t\\n\"))\n",
        "c = 17 - b;\n",
        "if c < 0:\n",
        "  c = abs(c);\n",
        "  c = 2 * c;\n",
        "print(\"Result:\\n\\n\\t\", c) "
      ],
      "execution_count": null,
      "outputs": []
    },
    {
      "cell_type": "code",
      "metadata": {
        "id": "JzGgVgnjKCIy",
        "colab_type": "code",
        "colab": {}
      },
      "source": [
        "# Number 6 Scrap\n",
        "DATX = input(\"Input X:\\n\");\n",
        "DataX = [x for x in DATX.split(\",\")];\n",
        "DATY = input(\"Input Y:\\n\");\n",
        "DataY = [y for y in DATY.split(\",\")];\n",
        "\n",
        "for x in DataX:\n",
        "  x = abs(x);\n",
        "  print(X);"
      ],
      "execution_count": null,
      "outputs": []
    },
    {
      "cell_type": "code",
      "metadata": {
        "id": "k2TivX3YLYNP",
        "colab_type": "code",
        "colab": {}
      },
      "source": [
        "# Number 6\n",
        "import math;\n",
        "X1 = int (input(\"X1:\\n\\t\"));\n",
        "Y1 = int (input(\"Y1:\\n\\t\"));\n",
        "X2 = int (input(\"X2:\\n\\t\"));\n",
        "Y2 = int (input(\"Y2:\\n\\t\"));\n",
        "p = (X1, Y1);\n",
        "p2 = (X2, Y2);\n",
        "\n",
        "DistX = abs(p[0] - p2[0])**2;\n",
        "DistY = abs(p[1] - p2[1])**2;\n",
        "Dist = (DistX + DistY)**(1/2);\n",
        "\n",
        "MidX = abs(p[0] - p2[0]);\n",
        "MidY = abs(p[1] - p2[1]);\n",
        "MidPt = MidX, MidY;\n",
        "\n",
        "print(\"The Distance between both points is:\\n\\n\\t\", Dist,\"\\nThe Midpoint is:\\n\\n\\t\", MidPt);"
      ],
      "execution_count": null,
      "outputs": []
    },
    {
      "cell_type": "code",
      "metadata": {
        "id": "mN6_ZBgu_-cM",
        "colab_type": "code",
        "colab": {}
      },
      "source": [
        "# Number 6 Lite\n",
        "import math;\n",
        "XY1 = (int (input(\"X1:\\n\\t\")),int (input(\"Y1:\\n\\t\")));\n",
        "XY2 = (int (input(\"X2:\\n\\t\")),int (input(\"Y2:\\n\\t\")));\n",
        "\n",
        "DistX = abs(XY1[0] - XY2[0])**2;\n",
        "DistY = abs(XY1[1] - XY2[1])**2;\n",
        "Dist = (DistX + DistY)**(1/2);\n",
        "\n",
        "MidX = abs(XY1[0] - XY2[0]);\n",
        "MidY = abs(XY1[1] - XY2[1]);\n",
        "MidPt = MidX, MidY;\n",
        "\n",
        "print(\"The Distance between both points is:\\n\\n\\t\", Dist,\"\\nThe Midpoint is:\\n\\n\\t\", MidPt);"
      ],
      "execution_count": null,
      "outputs": []
    },
    {
      "cell_type": "code",
      "metadata": {
        "id": "1AzW-R88C3FY",
        "colab_type": "code",
        "colab": {}
      },
      "source": [
        ""
      ],
      "execution_count": null,
      "outputs": []
    },
    {
      "cell_type": "code",
      "metadata": {
        "colab_type": "code",
        "id": "Ika4VbCVC7_B",
        "colab": {
          "base_uri": "https://localhost:8080/",
          "height": 232
        },
        "outputId": "b2e8caf0-1597-41e7-facf-54504a801239"
      },
      "source": [
        "# Number 6 with Placeholders\n",
        "import math;\n",
        "XY1 = ({X1},{Y1}).format((X1 = int (input(\"X1:\\n\\t\"))), Y1 = (int (input(\"Y1:\\n\\t\"))));\n",
        "XY2 = ({X2},{Y2}).format((X2 = int (input(\"X2:\\n\\t\"))), Y2 = (int (input(\"Y2:\\n\\t\"))));\n",
        "\n",
        "DistX = abs(XY1[0] - XY2[0])**2;\n",
        "DistY = abs(XY1[1] - XY2[1])**2;\n",
        "Dist = (DistX + DistY)**(1/2);\n",
        "\n",
        "MidX = abs(XY1[0] - XY2[0]);\n",
        "MidY = abs(XY1[1] - XY2[1]);\n",
        "MidPt = MidX, MidY;\n",
        "\n",
        "print(\"The Distance between both points is:\\n\\n\\t\", Dist,\"\\nThe Midpoint is:\\n\\n\\t\", MidPt);"
      ],
      "execution_count": 29,
      "outputs": [
        {
          "output_type": "error",
          "ename": "AttributeError",
          "evalue": "ignored",
          "traceback": [
            "\u001b[0;31m---------------------------------------------------------------------------\u001b[0m",
            "\u001b[0;31mAttributeError\u001b[0m                            Traceback (most recent call last)",
            "\u001b[0;32m<ipython-input-29-773e3f65d8dc>\u001b[0m in \u001b[0;36m<module>\u001b[0;34m()\u001b[0m\n\u001b[1;32m      1\u001b[0m \u001b[0;31m# Number 6 with Placeholders\u001b[0m\u001b[0;34m\u001b[0m\u001b[0;34m\u001b[0m\u001b[0;34m\u001b[0m\u001b[0m\n\u001b[1;32m      2\u001b[0m \u001b[0;32mimport\u001b[0m \u001b[0mmath\u001b[0m\u001b[0;34m;\u001b[0m\u001b[0;34m\u001b[0m\u001b[0;34m\u001b[0m\u001b[0m\n\u001b[0;32m----> 3\u001b[0;31m \u001b[0mXY1\u001b[0m \u001b[0;34m=\u001b[0m \u001b[0;34m(\u001b[0m\u001b[0;34m{\u001b[0m\u001b[0;36m0\u001b[0m\u001b[0;34m}\u001b[0m\u001b[0;34m,\u001b[0m\u001b[0;34m{\u001b[0m\u001b[0;36m1\u001b[0m\u001b[0;34m}\u001b[0m\u001b[0;34m)\u001b[0m\u001b[0;34m.\u001b[0m\u001b[0mformat\u001b[0m\u001b[0;34m(\u001b[0m\u001b[0minput\u001b[0m\u001b[0;34m(\u001b[0m\u001b[0;34m\"X1:\\n\\t\"\u001b[0m\u001b[0;34m)\u001b[0m\u001b[0;34m,\u001b[0m\u001b[0minput\u001b[0m\u001b[0;34m(\u001b[0m\u001b[0;34m\"Y1:\\n\\t\"\u001b[0m\u001b[0;34m)\u001b[0m\u001b[0;34m)\u001b[0m\u001b[0;34m;\u001b[0m\u001b[0;34m\u001b[0m\u001b[0;34m\u001b[0m\u001b[0m\n\u001b[0m\u001b[1;32m      4\u001b[0m \u001b[0mXY2\u001b[0m \u001b[0;34m=\u001b[0m \u001b[0;34m(\u001b[0m\u001b[0;34m{\u001b[0m\u001b[0;36m0\u001b[0m\u001b[0;34m}\u001b[0m\u001b[0;34m,\u001b[0m\u001b[0;34m{\u001b[0m\u001b[0;36m1\u001b[0m\u001b[0;34m}\u001b[0m\u001b[0;34m)\u001b[0m\u001b[0;34m.\u001b[0m\u001b[0mformat\u001b[0m\u001b[0;34m(\u001b[0m\u001b[0minput\u001b[0m\u001b[0;34m(\u001b[0m\u001b[0;34m\"X2:\\n\\t\"\u001b[0m\u001b[0;34m)\u001b[0m\u001b[0;34m,\u001b[0m\u001b[0minput\u001b[0m\u001b[0;34m(\u001b[0m\u001b[0;34m\"Y2:\\n\\t\"\u001b[0m\u001b[0;34m)\u001b[0m\u001b[0;34m)\u001b[0m\u001b[0;34m;\u001b[0m\u001b[0;34m\u001b[0m\u001b[0;34m\u001b[0m\u001b[0m\n\u001b[1;32m      5\u001b[0m \u001b[0;34m\u001b[0m\u001b[0m\n",
            "\u001b[0;31mAttributeError\u001b[0m: 'tuple' object has no attribute 'format'"
          ]
        }
      ]
    },
    {
      "cell_type": "code",
      "metadata": {
        "id": "psNN9Pr9NEWq",
        "colab_type": "code",
        "colab": {}
      },
      "source": [
        "# Number 7\n",
        "x = int (input(\"x =\\n\\t\"));\n",
        "y = int (input(\"y =\\n\\t\"));\n",
        "z = (x, y)\n",
        "print('\"', x ,\"+\", y , \"+\" , sum (z) ,'\"');"
      ],
      "execution_count": null,
      "outputs": []
    },
    {
      "cell_type": "code",
      "metadata": {
        "id": "zSbohR5gDM7T",
        "colab_type": "code",
        "colab": {
          "base_uri": "https://localhost:8080/",
          "height": 249
        },
        "outputId": "672389b9-bfd6-4c83-f1a1-095d46f5a24a"
      },
      "source": [
        "print(\"\"\"{A}+{B}={C}\"\"\".format(A = int (input(\"A =\\n\\t\")), B = int (input(\"B =\\n\\t\"), C = int (A + B)));"
      ],
      "execution_count": 19,
      "outputs": [
        {
          "output_type": "stream",
          "text": [
            "A =\n",
            "\t5\n",
            "B =\n",
            "\t5\n"
          ],
          "name": "stdout"
        },
        {
          "output_type": "error",
          "ename": "NameError",
          "evalue": "ignored",
          "traceback": [
            "\u001b[0;31m---------------------------------------------------------------------------\u001b[0m",
            "\u001b[0;31mNameError\u001b[0m                                 Traceback (most recent call last)",
            "\u001b[0;32m<ipython-input-19-b05238fe1129>\u001b[0m in \u001b[0;36m<module>\u001b[0;34m()\u001b[0m\n\u001b[0;32m----> 1\u001b[0;31m \u001b[0mprint\u001b[0m\u001b[0;34m(\u001b[0m\u001b[0;34m\"\"\"{A}+{B}={C}\"\"\"\u001b[0m\u001b[0;34m.\u001b[0m\u001b[0mformat\u001b[0m\u001b[0;34m(\u001b[0m\u001b[0mA\u001b[0m \u001b[0;34m=\u001b[0m \u001b[0mint\u001b[0m \u001b[0;34m(\u001b[0m\u001b[0minput\u001b[0m\u001b[0;34m(\u001b[0m\u001b[0;34m\"A =\\n\\t\"\u001b[0m\u001b[0;34m)\u001b[0m\u001b[0;34m)\u001b[0m\u001b[0;34m,\u001b[0m \u001b[0mB\u001b[0m \u001b[0;34m=\u001b[0m \u001b[0mint\u001b[0m \u001b[0;34m(\u001b[0m\u001b[0minput\u001b[0m\u001b[0;34m(\u001b[0m\u001b[0;34m\"B =\\n\\t\"\u001b[0m\u001b[0;34m)\u001b[0m\u001b[0;34m,\u001b[0m \u001b[0mC\u001b[0m \u001b[0;34m=\u001b[0m \u001b[0mint\u001b[0m \u001b[0;34m(\u001b[0m\u001b[0;34m\"%d\"\u001b[0m\u001b[0;34m,\u001b[0m \u001b[0mA\u001b[0m\u001b[0;34m)\u001b[0m \u001b[0;34m+\u001b[0m \u001b[0mint\u001b[0m \u001b[0;34m(\u001b[0m\u001b[0;34m\"%d\"\u001b[0m\u001b[0;34m,\u001b[0m \u001b[0mB\u001b[0m\u001b[0;34m)\u001b[0m\u001b[0;34m)\u001b[0m\u001b[0;34m)\u001b[0m\u001b[0;34m)\u001b[0m\u001b[0;34m;\u001b[0m\u001b[0;34m\u001b[0m\u001b[0;34m\u001b[0m\u001b[0m\n\u001b[0m",
            "\u001b[0;31mNameError\u001b[0m: name 'A' is not defined"
          ]
        }
      ]
    }
  ]
}